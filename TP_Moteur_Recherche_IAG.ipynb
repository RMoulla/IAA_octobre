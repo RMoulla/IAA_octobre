{
  "cells": [
    {
      "cell_type": "markdown",
      "metadata": {
        "id": "view-in-github",
        "colab_type": "text"
      },
      "source": [
        "<a href=\"https://colab.research.google.com/github/RMoulla/IAA_octobre/blob/main/TP_Moteur_Recherche_IAG.ipynb\" target=\"_parent\"><img src=\"https://colab.research.google.com/assets/colab-badge.svg\" alt=\"Open In Colab\"/></a>"
      ]
    },
    {
      "cell_type": "markdown",
      "id": "23da81d2",
      "metadata": {
        "id": "23da81d2"
      },
      "source": [
        "## **TP – Moteur de recherche e-commerce avec IAG**"
      ]
    },
    {
      "cell_type": "markdown",
      "id": "4ea74a88",
      "metadata": {
        "id": "4ea74a88"
      },
      "source": [
        "### **Objectif**\n",
        "Concevoir, avec l'aide de l'intelligence artificielle générative (IAG), un moteur de recherche e-commerce, du brief à la simulation du moteur, en passant par la génération des user stories et du prototype visuel."
      ]
    },
    {
      "cell_type": "markdown",
      "id": "bc10a838",
      "metadata": {
        "id": "bc10a838"
      },
      "source": [
        "### **Déroulé synthétique**\n",
        "1. Reformuler le brief avec l'IAG.\n",
        "2. Générer des user stories avec l'IAG.\n",
        "3. Décrire une maquette avec Galileo AI.\n",
        "4. Simuler un moteur de recherche en Python avec l'IAG."
      ]
    },
    {
      "cell_type": "markdown",
      "id": "7ab66c14",
      "metadata": {
        "id": "7ab66c14"
      },
      "source": [
        "### **Étape 1 — Reformuler le brief avec l'IAG**\n",
        "Brief de départ :\n",
        "« Les utilisateurs se plaigne de ne pas trouver facilement leurs produits. Concevoir un moteur de recherche intelligent capable de comprendre des requêtes naturelles.»\n",
        "\n",
        "Instruction :\n",
        "Utiliser un outil d'IAG pour reformuler ce brief en une problématique produit IA claire et proposer trois hypothèses de valeur mesurables."
      ]
    },
    {
      "cell_type": "markdown",
      "id": "f04ed15b",
      "metadata": {
        "id": "f04ed15b"
      },
      "source": [
        "### **Étape 2 — Générer des user stories avec l'IAG**\n",
        "\n",
        "Objectif :\n",
        "Obtenir un backlog initial décrivant les fonctionnalités du moteur de recherche intelligent.\n",
        "\n",
        "Instruction :\n",
        "Demander à l'IAG de proposer plusieurs user stories.\n",
        "\n",
        "Demander également deux critères d'acceptation par user story."
      ]
    },
    {
      "cell_type": "markdown",
      "id": "e7a4e4ea",
      "metadata": {
        "id": "e7a4e4ea"
      },
      "source": [
        "### **Étape 3 — Décrire une maquette avec Stitch AI**\n",
        "\n",
        "Objectif :\n",
        "Transformer les user stories en description visuelle du moteur de recherche.\n",
        "\n",
        "Instruction :\n",
        "Rédiger un texte à copier dans `Stitch` pour générer une interface correspondant au moteur décrit dans les user stories. La maquette doit inclure :\n",
        "- une barre de recherche avec auto-suggestion et correction automatique\n",
        "- un panneau de filtres (prix, catégories, note)\n",
        "- une zone d'affichage des résultats produits (image, titre, prix, note)\n",
        "- une reformulation de la requête en cas d'erreur ou de faute"
      ]
    },
    {
      "cell_type": "markdown",
      "id": "817663e9",
      "metadata": {
        "id": "817663e9"
      },
      "source": [
        "### **Étape 4 — Simuler un moteur de recherche en Python avec l'IAG**\n",
        "\n",
        "Objectif :\n",
        "Produire, à l'aide de l'IAG, un script Python simple simulant un moteur de recherche e-commerce.\n",
        "\n",
        "Instruction :\n",
        "Demander à l'IAG de générer un code qui :\n",
        "- permet de chercher des produits par mots-clés à partir d'une requête, en utilisant comme base de données le fichier `products.csv`.\n",
        "- affiche les résultats les plus pertinents triés par similarité textuelle\n",
        "- utilise, pour l'interface, le code HTML généré par `Stitch`.\n",
        "\n",
        "Prompt à copier coller :\n",
        "```\n",
        "Tu es un développeur expert. Ta mission est de créer un prototype de moteur de recherche en Python qui permet à l'utilisateur de rechercher un produit avec une requête en langage naturel. Tu dois respecter les contraintes suivantes :\n",
        "\n",
        "* L'application doit tourner dans l'environnement Google Colab (avec Gradio).\n",
        "* L'interface doit utiliser le code HTML fourni ici. Tu ne dois changer des éléments de l'interface que si nécessaire.\n",
        "* La base de données est le fichier products.csv dont un les premières lignes sont fournies ici.\n",
        "* L'application doit afficher les photos des articles sélectionnées ainsi que leurs prix et leurs notes.\n",
        "```"
      ]
    },
    {
      "cell_type": "code",
      "source": [
        "import pandas as pd\n",
        "dataset=pd.read_csv('products.csv')\n",
        "dataset.head()"
      ],
      "metadata": {
        "colab": {
          "base_uri": "https://localhost:8080/",
          "height": 573
        },
        "id": "RHGQ5_2pd-qH",
        "outputId": "52988d88-f2ea-4390-bce6-eeda6e85f439"
      },
      "id": "RHGQ5_2pd-qH",
      "execution_count": null,
      "outputs": [
        {
          "output_type": "execute_result",
          "data": {
            "text/plain": [
              "                                           title         brand  \\\n",
              "0                    Solid Men Black Track Pants          REEB   \n",
              "1                         Men Brief  (Pack of 3)           NaN   \n",
              "2         Printed Men Hooded Neck Yellow T-Shirt          ARBO   \n",
              "3       Printed Men Round Neck Dark Blue T-Shirt  Free Authori   \n",
              "4  Tripin Brass Cufflink & Tie Pin Set  (Silver)           NaN   \n",
              "\n",
              "                   category            sub_category  \\\n",
              "0  Clothing and Accessories              Bottomwear   \n",
              "1  Clothing and Accessories  Innerwear and Swimwear   \n",
              "2  Clothing and Accessories                 Topwear   \n",
              "3  Clothing and Accessories                 Topwear   \n",
              "4  Clothing and Accessories    Clothing Accessories   \n",
              "\n",
              "                                         description selling_price  \\\n",
              "0                                                NaN         2,309   \n",
              "1  Experience yourself the most comfortable produ...           332   \n",
              "2                                            t_shirt           474   \n",
              "3                                                NaN           419   \n",
              "4  TRIPIN UNIQUE SHAPE SILVER CUFFLINK FOR MEN WI...           500   \n",
              "\n",
              "   average_rating discount                                             images  \\\n",
              "0             4.0  30% off  https://rukminim1.flixcart.com/image/128/128/k...   \n",
              "1             3.5  14% off  https://rukminim1.flixcart.com/image/128/128/j...   \n",
              "2             4.3  49% off  https://rukminim1.flixcart.com/image/128/128/k...   \n",
              "3             3.9  30% off  https://rukminim1.flixcart.com/image/128/128/k...   \n",
              "4             NaN  49% off  https://rukminim1.flixcart.com/image/128/128/c...   \n",
              "\n",
              "                                                 url  \n",
              "0  https://www.flipkart.com/reebok-solid-men-blac...  \n",
              "1  https://www.flipkart.com/tt-men-brief/p/itm289...  \n",
              "2  https://www.flipkart.com/arbour-printed-men-ho...  \n",
              "3  https://www.flipkart.com/free-authority-printe...  \n",
              "4  https://www.flipkart.com/tripin-brass-cufflink...  "
            ],
            "text/html": [
              "\n",
              "  <div id=\"df-a1aeb880-5e03-4bb4-bcf7-312931a4e52d\" class=\"colab-df-container\">\n",
              "    <div>\n",
              "<style scoped>\n",
              "    .dataframe tbody tr th:only-of-type {\n",
              "        vertical-align: middle;\n",
              "    }\n",
              "\n",
              "    .dataframe tbody tr th {\n",
              "        vertical-align: top;\n",
              "    }\n",
              "\n",
              "    .dataframe thead th {\n",
              "        text-align: right;\n",
              "    }\n",
              "</style>\n",
              "<table border=\"1\" class=\"dataframe\">\n",
              "  <thead>\n",
              "    <tr style=\"text-align: right;\">\n",
              "      <th></th>\n",
              "      <th>title</th>\n",
              "      <th>brand</th>\n",
              "      <th>category</th>\n",
              "      <th>sub_category</th>\n",
              "      <th>description</th>\n",
              "      <th>selling_price</th>\n",
              "      <th>average_rating</th>\n",
              "      <th>discount</th>\n",
              "      <th>images</th>\n",
              "      <th>url</th>\n",
              "    </tr>\n",
              "  </thead>\n",
              "  <tbody>\n",
              "    <tr>\n",
              "      <th>0</th>\n",
              "      <td>Solid Men Black Track Pants</td>\n",
              "      <td>REEB</td>\n",
              "      <td>Clothing and Accessories</td>\n",
              "      <td>Bottomwear</td>\n",
              "      <td>NaN</td>\n",
              "      <td>2,309</td>\n",
              "      <td>4.0</td>\n",
              "      <td>30% off</td>\n",
              "      <td>https://rukminim1.flixcart.com/image/128/128/k...</td>\n",
              "      <td>https://www.flipkart.com/reebok-solid-men-blac...</td>\n",
              "    </tr>\n",
              "    <tr>\n",
              "      <th>1</th>\n",
              "      <td>Men Brief  (Pack of 3)</td>\n",
              "      <td>NaN</td>\n",
              "      <td>Clothing and Accessories</td>\n",
              "      <td>Innerwear and Swimwear</td>\n",
              "      <td>Experience yourself the most comfortable produ...</td>\n",
              "      <td>332</td>\n",
              "      <td>3.5</td>\n",
              "      <td>14% off</td>\n",
              "      <td>https://rukminim1.flixcart.com/image/128/128/j...</td>\n",
              "      <td>https://www.flipkart.com/tt-men-brief/p/itm289...</td>\n",
              "    </tr>\n",
              "    <tr>\n",
              "      <th>2</th>\n",
              "      <td>Printed Men Hooded Neck Yellow T-Shirt</td>\n",
              "      <td>ARBO</td>\n",
              "      <td>Clothing and Accessories</td>\n",
              "      <td>Topwear</td>\n",
              "      <td>t_shirt</td>\n",
              "      <td>474</td>\n",
              "      <td>4.3</td>\n",
              "      <td>49% off</td>\n",
              "      <td>https://rukminim1.flixcart.com/image/128/128/k...</td>\n",
              "      <td>https://www.flipkart.com/arbour-printed-men-ho...</td>\n",
              "    </tr>\n",
              "    <tr>\n",
              "      <th>3</th>\n",
              "      <td>Printed Men Round Neck Dark Blue T-Shirt</td>\n",
              "      <td>Free Authori</td>\n",
              "      <td>Clothing and Accessories</td>\n",
              "      <td>Topwear</td>\n",
              "      <td>NaN</td>\n",
              "      <td>419</td>\n",
              "      <td>3.9</td>\n",
              "      <td>30% off</td>\n",
              "      <td>https://rukminim1.flixcart.com/image/128/128/k...</td>\n",
              "      <td>https://www.flipkart.com/free-authority-printe...</td>\n",
              "    </tr>\n",
              "    <tr>\n",
              "      <th>4</th>\n",
              "      <td>Tripin Brass Cufflink &amp; Tie Pin Set  (Silver)</td>\n",
              "      <td>NaN</td>\n",
              "      <td>Clothing and Accessories</td>\n",
              "      <td>Clothing Accessories</td>\n",
              "      <td>TRIPIN UNIQUE SHAPE SILVER CUFFLINK FOR MEN WI...</td>\n",
              "      <td>500</td>\n",
              "      <td>NaN</td>\n",
              "      <td>49% off</td>\n",
              "      <td>https://rukminim1.flixcart.com/image/128/128/c...</td>\n",
              "      <td>https://www.flipkart.com/tripin-brass-cufflink...</td>\n",
              "    </tr>\n",
              "  </tbody>\n",
              "</table>\n",
              "</div>\n",
              "    <div class=\"colab-df-buttons\">\n",
              "      \n",
              "  <div class=\"colab-df-container\">\n",
              "    <button class=\"colab-df-convert\" onclick=\"convertToInteractive('df-a1aeb880-5e03-4bb4-bcf7-312931a4e52d')\"\n",
              "            title=\"Convert this dataframe to an interactive table.\"\n",
              "            style=\"display:none;\">\n",
              "      \n",
              "  <svg xmlns=\"http://www.w3.org/2000/svg\" height=\"24px\" viewBox=\"0 -960 960 960\">\n",
              "    <path d=\"M120-120v-720h720v720H120Zm60-500h600v-160H180v160Zm220 220h160v-160H400v160Zm0 220h160v-160H400v160ZM180-400h160v-160H180v160Zm440 0h160v-160H620v160ZM180-180h160v-160H180v160Zm440 0h160v-160H620v160Z\"/>\n",
              "  </svg>\n",
              "    </button>\n",
              "    \n",
              "  <style>\n",
              "    .colab-df-container {\n",
              "      display:flex;\n",
              "      gap: 12px;\n",
              "    }\n",
              "\n",
              "    .colab-df-convert {\n",
              "      background-color: #E8F0FE;\n",
              "      border: none;\n",
              "      border-radius: 50%;\n",
              "      cursor: pointer;\n",
              "      display: none;\n",
              "      fill: #1967D2;\n",
              "      height: 32px;\n",
              "      padding: 0 0 0 0;\n",
              "      width: 32px;\n",
              "    }\n",
              "\n",
              "    .colab-df-convert:hover {\n",
              "      background-color: #E2EBFA;\n",
              "      box-shadow: 0px 1px 2px rgba(60, 64, 67, 0.3), 0px 1px 3px 1px rgba(60, 64, 67, 0.15);\n",
              "      fill: #174EA6;\n",
              "    }\n",
              "\n",
              "    .colab-df-buttons div {\n",
              "      margin-bottom: 4px;\n",
              "    }\n",
              "\n",
              "    [theme=dark] .colab-df-convert {\n",
              "      background-color: #3B4455;\n",
              "      fill: #D2E3FC;\n",
              "    }\n",
              "\n",
              "    [theme=dark] .colab-df-convert:hover {\n",
              "      background-color: #434B5C;\n",
              "      box-shadow: 0px 1px 3px 1px rgba(0, 0, 0, 0.15);\n",
              "      filter: drop-shadow(0px 1px 2px rgba(0, 0, 0, 0.3));\n",
              "      fill: #FFFFFF;\n",
              "    }\n",
              "  </style>\n",
              "\n",
              "    <script>\n",
              "      const buttonEl =\n",
              "        document.querySelector('#df-a1aeb880-5e03-4bb4-bcf7-312931a4e52d button.colab-df-convert');\n",
              "      buttonEl.style.display =\n",
              "        google.colab.kernel.accessAllowed ? 'block' : 'none';\n",
              "\n",
              "      async function convertToInteractive(key) {\n",
              "        const element = document.querySelector('#df-a1aeb880-5e03-4bb4-bcf7-312931a4e52d');\n",
              "        const dataTable =\n",
              "          await google.colab.kernel.invokeFunction('convertToInteractive',\n",
              "                                                    [key], {});\n",
              "        if (!dataTable) return;\n",
              "\n",
              "        const docLinkHtml = 'Like what you see? Visit the ' +\n",
              "          '<a target=\"_blank\" href=https://colab.research.google.com/notebooks/data_table.ipynb>data table notebook</a>'\n",
              "          + ' to learn more about interactive tables.';\n",
              "        element.innerHTML = '';\n",
              "        dataTable['output_type'] = 'display_data';\n",
              "        await google.colab.output.renderOutput(dataTable, element);\n",
              "        const docLink = document.createElement('div');\n",
              "        docLink.innerHTML = docLinkHtml;\n",
              "        element.appendChild(docLink);\n",
              "      }\n",
              "    </script>\n",
              "  </div>\n",
              "  \n",
              "    </div>\n",
              "  </div>\n",
              "  "
            ]
          },
          "metadata": {},
          "execution_count": 1
        }
      ]
    }
  ],
  "metadata": {
    "language_info": {
      "name": "python"
    },
    "colab": {
      "provenance": [],
      "include_colab_link": true
    },
    "kernelspec": {
      "name": "python3",
      "display_name": "Python 3"
    }
  },
  "nbformat": 4,
  "nbformat_minor": 5
}